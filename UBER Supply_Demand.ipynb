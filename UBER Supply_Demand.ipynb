{
 "cells": [
  {
   "cell_type": "markdown",
   "id": "0cb0fee3",
   "metadata": {},
   "source": [
    "# UBER Supply-Demand Gap"
   ]
  },
  {
   "cell_type": "markdown",
   "id": "26d6d8d5",
   "metadata": {},
   "source": [
    "## Problem Statement\n",
    "\n",
    "You may have some experience of travelling to and from the airport. Have you ever used Uber or any other cab service for this travel? Did you at any time face the problem of cancellation by the driver or non-availability of cars?\n",
    "\n",
    "Well, if these are the problems faced by customers, these very issues also impact the business of Uber. If drivers cancel the request of riders or if cars are unavailable, Uber loses out on its revenue. Let’s hear more about such problems that Uber faces during its operations.\n",
    "\n",
    " "
   ]
  },
  {
   "cell_type": "markdown",
   "id": "f7f3c43b",
   "metadata": {},
   "source": [
    "## Business Objectives\n",
    "\n",
    "The aim of analysis is to identify the root cause of the problem (i.e. cancellation and non-availability of cars) and recommend ways to improve the situation. As a result of your analysis, you should be able to present to the client the root cause(s) and possible hypotheses of the problem(s) and recommend ways to improve them. "
   ]
  },
  {
   "cell_type": "markdown",
   "id": "1b988c7d",
   "metadata": {},
   "source": [
    "## Data Understanding\n",
    "\n",
    "There are six attributes associated with each request made by a customer:\n",
    "\n",
    "- Request id: A unique identifier of the request\n",
    "- Time of request: The date and time at which the customer made the trip request\n",
    "- Drop-off time: The drop-off date and time, in case the trip was completed \n",
    "- Pick-up point: The point from which the request was made\n",
    "- Driver id: The unique identification number of the driver\n",
    "- Status of the request: The final status of the trip, that can be either completed, cancelled by the driver or no cars available\n"
   ]
  },
  {
   "cell_type": "code",
   "execution_count": 28,
   "id": "bed41964",
   "metadata": {},
   "outputs": [],
   "source": [
    "#importing necessary libraries\n",
    "import numpy as np\n",
    "import pandas as pd\n",
    "import matplotlib.pyplot as plt\n",
    "import seaborn as sns\n",
    "\n",
    "import warnings\n",
    "warnings.filterwarnings(\"ignore\")"
   ]
  },
  {
   "cell_type": "code",
   "execution_count": 29,
   "id": "06de64e9",
   "metadata": {},
   "outputs": [
    {
     "data": {
      "text/html": [
       "<div>\n",
       "<style scoped>\n",
       "    .dataframe tbody tr th:only-of-type {\n",
       "        vertical-align: middle;\n",
       "    }\n",
       "\n",
       "    .dataframe tbody tr th {\n",
       "        vertical-align: top;\n",
       "    }\n",
       "\n",
       "    .dataframe thead th {\n",
       "        text-align: right;\n",
       "    }\n",
       "</style>\n",
       "<table border=\"1\" class=\"dataframe\">\n",
       "  <thead>\n",
       "    <tr style=\"text-align: right;\">\n",
       "      <th></th>\n",
       "      <th>Request id</th>\n",
       "      <th>Pickup point</th>\n",
       "      <th>Driver id</th>\n",
       "      <th>Status</th>\n",
       "      <th>Request timestamp</th>\n",
       "      <th>Drop timestamp</th>\n",
       "    </tr>\n",
       "  </thead>\n",
       "  <tbody>\n",
       "    <tr>\n",
       "      <th>0</th>\n",
       "      <td>619</td>\n",
       "      <td>Airport</td>\n",
       "      <td>1.0</td>\n",
       "      <td>Trip Completed</td>\n",
       "      <td>11/7/2016 11:51</td>\n",
       "      <td>11/7/2016 13:00</td>\n",
       "    </tr>\n",
       "    <tr>\n",
       "      <th>1</th>\n",
       "      <td>867</td>\n",
       "      <td>Airport</td>\n",
       "      <td>1.0</td>\n",
       "      <td>Trip Completed</td>\n",
       "      <td>11/7/2016 17:57</td>\n",
       "      <td>11/7/2016 18:47</td>\n",
       "    </tr>\n",
       "    <tr>\n",
       "      <th>2</th>\n",
       "      <td>1807</td>\n",
       "      <td>City</td>\n",
       "      <td>1.0</td>\n",
       "      <td>Trip Completed</td>\n",
       "      <td>12/7/2016 9:17</td>\n",
       "      <td>12/7/2016 9:58</td>\n",
       "    </tr>\n",
       "    <tr>\n",
       "      <th>3</th>\n",
       "      <td>2532</td>\n",
       "      <td>Airport</td>\n",
       "      <td>1.0</td>\n",
       "      <td>Trip Completed</td>\n",
       "      <td>12/7/2016 21:08</td>\n",
       "      <td>12/7/2016 22:03</td>\n",
       "    </tr>\n",
       "    <tr>\n",
       "      <th>4</th>\n",
       "      <td>3112</td>\n",
       "      <td>City</td>\n",
       "      <td>1.0</td>\n",
       "      <td>Trip Completed</td>\n",
       "      <td>13-07-2016 08:33:16</td>\n",
       "      <td>13-07-2016 09:25:47</td>\n",
       "    </tr>\n",
       "  </tbody>\n",
       "</table>\n",
       "</div>"
      ],
      "text/plain": [
       "   Request id Pickup point  Driver id          Status    Request timestamp  \\\n",
       "0         619      Airport        1.0  Trip Completed      11/7/2016 11:51   \n",
       "1         867      Airport        1.0  Trip Completed      11/7/2016 17:57   \n",
       "2        1807         City        1.0  Trip Completed       12/7/2016 9:17   \n",
       "3        2532      Airport        1.0  Trip Completed      12/7/2016 21:08   \n",
       "4        3112         City        1.0  Trip Completed  13-07-2016 08:33:16   \n",
       "\n",
       "        Drop timestamp  \n",
       "0      11/7/2016 13:00  \n",
       "1      11/7/2016 18:47  \n",
       "2       12/7/2016 9:58  \n",
       "3      12/7/2016 22:03  \n",
       "4  13-07-2016 09:25:47  "
      ]
     },
     "execution_count": 29,
     "metadata": {},
     "output_type": "execute_result"
    }
   ],
   "source": [
    "#loading data into dataframe\n",
    "df = pd.read_csv(\"Uber Request Data.csv\")\n",
    "df.head()"
   ]
  },
  {
   "cell_type": "code",
   "execution_count": 30,
   "id": "b01b24c9",
   "metadata": {},
   "outputs": [
    {
     "data": {
      "text/plain": [
       "0"
      ]
     },
     "execution_count": 30,
     "metadata": {},
     "output_type": "execute_result"
    }
   ],
   "source": [
    "#checking the number of duplicate rows are zero\n",
    "df.duplicated().sum()"
   ]
  },
  {
   "cell_type": "code",
   "execution_count": 31,
   "id": "8b0ed23f",
   "metadata": {},
   "outputs": [
    {
     "data": {
      "text/plain": [
       "(6745, 6)"
      ]
     },
     "execution_count": 31,
     "metadata": {},
     "output_type": "execute_result"
    }
   ],
   "source": [
    "#lets look at the dimensions of the dataframe\n",
    "df.shape"
   ]
  },
  {
   "cell_type": "code",
   "execution_count": 32,
   "id": "8d0b48ce",
   "metadata": {},
   "outputs": [
    {
     "name": "stdout",
     "output_type": "stream",
     "text": [
      "<class 'pandas.core.frame.DataFrame'>\n",
      "RangeIndex: 6745 entries, 0 to 6744\n",
      "Data columns (total 6 columns):\n",
      " #   Column             Non-Null Count  Dtype  \n",
      "---  ------             --------------  -----  \n",
      " 0   Request id         6745 non-null   int64  \n",
      " 1   Pickup point       6745 non-null   object \n",
      " 2   Driver id          4095 non-null   float64\n",
      " 3   Status             6745 non-null   object \n",
      " 4   Request timestamp  6745 non-null   object \n",
      " 5   Drop timestamp     2831 non-null   object \n",
      "dtypes: float64(1), int64(1), object(4)\n",
      "memory usage: 316.3+ KB\n"
     ]
    }
   ],
   "source": [
    "df.info()"
   ]
  },
  {
   "cell_type": "markdown",
   "id": "2c53a36d",
   "metadata": {},
   "source": [
    "#### check for NA values in dataset\n",
    "\n"
   ]
  },
  {
   "cell_type": "code",
   "execution_count": 33,
   "id": "a7b63344",
   "metadata": {},
   "outputs": [
    {
     "data": {
      "text/plain": [
       "Request id              0\n",
       "Pickup point            0\n",
       "Driver id            2650\n",
       "Status                  0\n",
       "Request timestamp       0\n",
       "Drop timestamp       3914\n",
       "dtype: int64"
      ]
     },
     "execution_count": 33,
     "metadata": {},
     "output_type": "execute_result"
    }
   ],
   "source": [
    "df.isnull().sum()"
   ]
  },
  {
   "cell_type": "code",
   "execution_count": 34,
   "id": "6a4b4044",
   "metadata": {},
   "outputs": [
    {
     "data": {
      "text/plain": [
       "True"
      ]
     },
     "execution_count": 34,
     "metadata": {},
     "output_type": "execute_result"
    }
   ],
   "source": [
    "df.isnull().values.any()"
   ]
  },
  {
   "cell_type": "code",
   "execution_count": 35,
   "id": "cb54dfbb",
   "metadata": {},
   "outputs": [
    {
     "data": {
      "text/plain": [
       "6564"
      ]
     },
     "execution_count": 35,
     "metadata": {},
     "output_type": "execute_result"
    }
   ],
   "source": [
    "df.isnull().values.sum()"
   ]
  },
  {
   "cell_type": "markdown",
   "id": "2cffc08b",
   "metadata": {},
   "source": [
    "\n",
    "#### Check the % of NA's columnwise"
   ]
  },
  {
   "cell_type": "code",
   "execution_count": 36,
   "id": "1a9e90ce",
   "metadata": {},
   "outputs": [
    {
     "name": "stdout",
     "output_type": "stream",
     "text": [
      "Request id            0.000000\n",
      "Pickup point          0.000000\n",
      "Driver id            39.288362\n",
      "Status                0.000000\n",
      "Request timestamp     0.000000\n",
      "Drop timestamp       58.028169\n",
      "dtype: float64\n"
     ]
    }
   ],
   "source": [
    "print((df.isnull().sum()*100)/df.shape[0])"
   ]
  },
  {
   "cell_type": "markdown",
   "id": "f4b7a98f",
   "metadata": {},
   "source": [
    "#### converting \"Request timestamp\"/\"Drop timestamp\" column to datetime object"
   ]
  },
  {
   "cell_type": "code",
   "execution_count": 38,
   "id": "4deb0507",
   "metadata": {},
   "outputs": [
    {
     "data": {
      "text/html": [
       "<div>\n",
       "<style scoped>\n",
       "    .dataframe tbody tr th:only-of-type {\n",
       "        vertical-align: middle;\n",
       "    }\n",
       "\n",
       "    .dataframe tbody tr th {\n",
       "        vertical-align: top;\n",
       "    }\n",
       "\n",
       "    .dataframe thead th {\n",
       "        text-align: right;\n",
       "    }\n",
       "</style>\n",
       "<table border=\"1\" class=\"dataframe\">\n",
       "  <thead>\n",
       "    <tr style=\"text-align: right;\">\n",
       "      <th></th>\n",
       "      <th>Request id</th>\n",
       "      <th>Pickup point</th>\n",
       "      <th>Driver id</th>\n",
       "      <th>Status</th>\n",
       "      <th>Request timestamp</th>\n",
       "      <th>Drop timestamp</th>\n",
       "    </tr>\n",
       "  </thead>\n",
       "  <tbody>\n",
       "    <tr>\n",
       "      <th>0</th>\n",
       "      <td>619</td>\n",
       "      <td>Airport</td>\n",
       "      <td>1.0</td>\n",
       "      <td>Trip Completed</td>\n",
       "      <td>2016-07-11 11:51:00</td>\n",
       "      <td>11/7/2016 13:00</td>\n",
       "    </tr>\n",
       "    <tr>\n",
       "      <th>1</th>\n",
       "      <td>867</td>\n",
       "      <td>Airport</td>\n",
       "      <td>1.0</td>\n",
       "      <td>Trip Completed</td>\n",
       "      <td>2016-07-11 17:57:00</td>\n",
       "      <td>11/7/2016 18:47</td>\n",
       "    </tr>\n",
       "    <tr>\n",
       "      <th>2</th>\n",
       "      <td>1807</td>\n",
       "      <td>City</td>\n",
       "      <td>1.0</td>\n",
       "      <td>Trip Completed</td>\n",
       "      <td>2016-07-12 09:17:00</td>\n",
       "      <td>12/7/2016 9:58</td>\n",
       "    </tr>\n",
       "    <tr>\n",
       "      <th>3</th>\n",
       "      <td>2532</td>\n",
       "      <td>Airport</td>\n",
       "      <td>1.0</td>\n",
       "      <td>Trip Completed</td>\n",
       "      <td>2016-07-12 21:08:00</td>\n",
       "      <td>12/7/2016 22:03</td>\n",
       "    </tr>\n",
       "    <tr>\n",
       "      <th>4</th>\n",
       "      <td>3112</td>\n",
       "      <td>City</td>\n",
       "      <td>1.0</td>\n",
       "      <td>Trip Completed</td>\n",
       "      <td>2016-07-13 08:33:16</td>\n",
       "      <td>13-07-2016 09:25:47</td>\n",
       "    </tr>\n",
       "  </tbody>\n",
       "</table>\n",
       "</div>"
      ],
      "text/plain": [
       "   Request id Pickup point  Driver id          Status   Request timestamp  \\\n",
       "0         619      Airport        1.0  Trip Completed 2016-07-11 11:51:00   \n",
       "1         867      Airport        1.0  Trip Completed 2016-07-11 17:57:00   \n",
       "2        1807         City        1.0  Trip Completed 2016-07-12 09:17:00   \n",
       "3        2532      Airport        1.0  Trip Completed 2016-07-12 21:08:00   \n",
       "4        3112         City        1.0  Trip Completed 2016-07-13 08:33:16   \n",
       "\n",
       "        Drop timestamp  \n",
       "0      11/7/2016 13:00  \n",
       "1      11/7/2016 18:47  \n",
       "2       12/7/2016 9:58  \n",
       "3      12/7/2016 22:03  \n",
       "4  13-07-2016 09:25:47  "
      ]
     },
     "execution_count": 38,
     "metadata": {},
     "output_type": "execute_result"
    }
   ],
   "source": [
    "#Formatting request timestamp column\n",
    "df[\"Request timestamp\"] = pd.to_datetime(df[\"Request timestamp\"],dayfirst=True)\n",
    "df.head()"
   ]
  },
  {
   "cell_type": "code",
   "execution_count": 39,
   "id": "76d58627",
   "metadata": {},
   "outputs": [
    {
     "data": {
      "text/html": [
       "<div>\n",
       "<style scoped>\n",
       "    .dataframe tbody tr th:only-of-type {\n",
       "        vertical-align: middle;\n",
       "    }\n",
       "\n",
       "    .dataframe tbody tr th {\n",
       "        vertical-align: top;\n",
       "    }\n",
       "\n",
       "    .dataframe thead th {\n",
       "        text-align: right;\n",
       "    }\n",
       "</style>\n",
       "<table border=\"1\" class=\"dataframe\">\n",
       "  <thead>\n",
       "    <tr style=\"text-align: right;\">\n",
       "      <th></th>\n",
       "      <th>Request id</th>\n",
       "      <th>Pickup point</th>\n",
       "      <th>Driver id</th>\n",
       "      <th>Status</th>\n",
       "      <th>Request timestamp</th>\n",
       "      <th>Drop timestamp</th>\n",
       "    </tr>\n",
       "  </thead>\n",
       "  <tbody>\n",
       "    <tr>\n",
       "      <th>0</th>\n",
       "      <td>619</td>\n",
       "      <td>Airport</td>\n",
       "      <td>1.0</td>\n",
       "      <td>Trip Completed</td>\n",
       "      <td>2016-07-11 11:51:00</td>\n",
       "      <td>2016-07-11 13:00:00</td>\n",
       "    </tr>\n",
       "    <tr>\n",
       "      <th>1</th>\n",
       "      <td>867</td>\n",
       "      <td>Airport</td>\n",
       "      <td>1.0</td>\n",
       "      <td>Trip Completed</td>\n",
       "      <td>2016-07-11 17:57:00</td>\n",
       "      <td>2016-07-11 18:47:00</td>\n",
       "    </tr>\n",
       "    <tr>\n",
       "      <th>2</th>\n",
       "      <td>1807</td>\n",
       "      <td>City</td>\n",
       "      <td>1.0</td>\n",
       "      <td>Trip Completed</td>\n",
       "      <td>2016-07-12 09:17:00</td>\n",
       "      <td>2016-07-12 09:58:00</td>\n",
       "    </tr>\n",
       "    <tr>\n",
       "      <th>3</th>\n",
       "      <td>2532</td>\n",
       "      <td>Airport</td>\n",
       "      <td>1.0</td>\n",
       "      <td>Trip Completed</td>\n",
       "      <td>2016-07-12 21:08:00</td>\n",
       "      <td>2016-07-12 22:03:00</td>\n",
       "    </tr>\n",
       "    <tr>\n",
       "      <th>4</th>\n",
       "      <td>3112</td>\n",
       "      <td>City</td>\n",
       "      <td>1.0</td>\n",
       "      <td>Trip Completed</td>\n",
       "      <td>2016-07-13 08:33:16</td>\n",
       "      <td>2016-07-13 09:25:47</td>\n",
       "    </tr>\n",
       "  </tbody>\n",
       "</table>\n",
       "</div>"
      ],
      "text/plain": [
       "   Request id Pickup point  Driver id          Status   Request timestamp  \\\n",
       "0         619      Airport        1.0  Trip Completed 2016-07-11 11:51:00   \n",
       "1         867      Airport        1.0  Trip Completed 2016-07-11 17:57:00   \n",
       "2        1807         City        1.0  Trip Completed 2016-07-12 09:17:00   \n",
       "3        2532      Airport        1.0  Trip Completed 2016-07-12 21:08:00   \n",
       "4        3112         City        1.0  Trip Completed 2016-07-13 08:33:16   \n",
       "\n",
       "       Drop timestamp  \n",
       "0 2016-07-11 13:00:00  \n",
       "1 2016-07-11 18:47:00  \n",
       "2 2016-07-12 09:58:00  \n",
       "3 2016-07-12 22:03:00  \n",
       "4 2016-07-13 09:25:47  "
      ]
     },
     "execution_count": 39,
     "metadata": {},
     "output_type": "execute_result"
    }
   ],
   "source": [
    "#Formatting drop timestamp column\n",
    "df[\"Drop timestamp\"] = pd.to_datetime(df[\"Drop timestamp\"],dayfirst=True)\n",
    "df.head()"
   ]
  },
  {
   "cell_type": "code",
   "execution_count": 40,
   "id": "52822204",
   "metadata": {},
   "outputs": [
    {
     "name": "stdout",
     "output_type": "stream",
     "text": [
      "<class 'pandas.core.frame.DataFrame'>\n",
      "RangeIndex: 6745 entries, 0 to 6744\n",
      "Data columns (total 6 columns):\n",
      " #   Column             Non-Null Count  Dtype         \n",
      "---  ------             --------------  -----         \n",
      " 0   Request id         6745 non-null   int64         \n",
      " 1   Pickup point       6745 non-null   object        \n",
      " 2   Driver id          4095 non-null   float64       \n",
      " 3   Status             6745 non-null   object        \n",
      " 4   Request timestamp  6745 non-null   datetime64[ns]\n",
      " 5   Drop timestamp     2831 non-null   datetime64[ns]\n",
      "dtypes: datetime64[ns](2), float64(1), int64(1), object(2)\n",
      "memory usage: 316.3+ KB\n"
     ]
    }
   ],
   "source": [
    "#cross checking data type of columns\n",
    "df.info()"
   ]
  },
  {
   "cell_type": "code",
   "execution_count": 41,
   "id": "790aeaf6",
   "metadata": {},
   "outputs": [
    {
     "data": {
      "text/html": [
       "<div>\n",
       "<style scoped>\n",
       "    .dataframe tbody tr th:only-of-type {\n",
       "        vertical-align: middle;\n",
       "    }\n",
       "\n",
       "    .dataframe tbody tr th {\n",
       "        vertical-align: top;\n",
       "    }\n",
       "\n",
       "    .dataframe thead th {\n",
       "        text-align: right;\n",
       "    }\n",
       "</style>\n",
       "<table border=\"1\" class=\"dataframe\">\n",
       "  <thead>\n",
       "    <tr style=\"text-align: right;\">\n",
       "      <th></th>\n",
       "      <th>Request id</th>\n",
       "      <th>Pickup point</th>\n",
       "      <th>Driver id</th>\n",
       "      <th>Status</th>\n",
       "      <th>Request timestamp</th>\n",
       "      <th>Drop timestamp</th>\n",
       "      <th>Request Date</th>\n",
       "      <th>Request time</th>\n",
       "    </tr>\n",
       "  </thead>\n",
       "  <tbody>\n",
       "    <tr>\n",
       "      <th>0</th>\n",
       "      <td>619</td>\n",
       "      <td>Airport</td>\n",
       "      <td>1.0</td>\n",
       "      <td>Trip Completed</td>\n",
       "      <td>2016-07-11 11:51:00</td>\n",
       "      <td>2016-07-11 13:00:00</td>\n",
       "      <td>2016-07-11</td>\n",
       "      <td>11:51:00</td>\n",
       "    </tr>\n",
       "    <tr>\n",
       "      <th>1</th>\n",
       "      <td>867</td>\n",
       "      <td>Airport</td>\n",
       "      <td>1.0</td>\n",
       "      <td>Trip Completed</td>\n",
       "      <td>2016-07-11 17:57:00</td>\n",
       "      <td>2016-07-11 18:47:00</td>\n",
       "      <td>2016-07-11</td>\n",
       "      <td>17:57:00</td>\n",
       "    </tr>\n",
       "    <tr>\n",
       "      <th>2</th>\n",
       "      <td>1807</td>\n",
       "      <td>City</td>\n",
       "      <td>1.0</td>\n",
       "      <td>Trip Completed</td>\n",
       "      <td>2016-07-12 09:17:00</td>\n",
       "      <td>2016-07-12 09:58:00</td>\n",
       "      <td>2016-07-12</td>\n",
       "      <td>09:17:00</td>\n",
       "    </tr>\n",
       "    <tr>\n",
       "      <th>3</th>\n",
       "      <td>2532</td>\n",
       "      <td>Airport</td>\n",
       "      <td>1.0</td>\n",
       "      <td>Trip Completed</td>\n",
       "      <td>2016-07-12 21:08:00</td>\n",
       "      <td>2016-07-12 22:03:00</td>\n",
       "      <td>2016-07-12</td>\n",
       "      <td>21:08:00</td>\n",
       "    </tr>\n",
       "    <tr>\n",
       "      <th>4</th>\n",
       "      <td>3112</td>\n",
       "      <td>City</td>\n",
       "      <td>1.0</td>\n",
       "      <td>Trip Completed</td>\n",
       "      <td>2016-07-13 08:33:16</td>\n",
       "      <td>2016-07-13 09:25:47</td>\n",
       "      <td>2016-07-13</td>\n",
       "      <td>08:33:16</td>\n",
       "    </tr>\n",
       "  </tbody>\n",
       "</table>\n",
       "</div>"
      ],
      "text/plain": [
       "   Request id Pickup point  Driver id          Status   Request timestamp  \\\n",
       "0         619      Airport        1.0  Trip Completed 2016-07-11 11:51:00   \n",
       "1         867      Airport        1.0  Trip Completed 2016-07-11 17:57:00   \n",
       "2        1807         City        1.0  Trip Completed 2016-07-12 09:17:00   \n",
       "3        2532      Airport        1.0  Trip Completed 2016-07-12 21:08:00   \n",
       "4        3112         City        1.0  Trip Completed 2016-07-13 08:33:16   \n",
       "\n",
       "       Drop timestamp Request Date Request time  \n",
       "0 2016-07-11 13:00:00   2016-07-11     11:51:00  \n",
       "1 2016-07-11 18:47:00   2016-07-11     17:57:00  \n",
       "2 2016-07-12 09:58:00   2016-07-12     09:17:00  \n",
       "3 2016-07-12 22:03:00   2016-07-12     21:08:00  \n",
       "4 2016-07-13 09:25:47   2016-07-13     08:33:16  "
      ]
     },
     "execution_count": 41,
     "metadata": {},
     "output_type": "execute_result"
    }
   ],
   "source": [
    "#Extracting hour from the request timestamp for further analysis \n",
    "df[\"Request Date\"] = df[\"Request timestamp\"].dt.date\n",
    "df[\"Request time\"] = df[\"Request timestamp\"].dt.time\n",
    "df.head()"
   ]
  },
  {
   "cell_type": "code",
   "execution_count": 42,
   "id": "fadebc77",
   "metadata": {},
   "outputs": [
    {
     "data": {
      "text/html": [
       "<div>\n",
       "<style scoped>\n",
       "    .dataframe tbody tr th:only-of-type {\n",
       "        vertical-align: middle;\n",
       "    }\n",
       "\n",
       "    .dataframe tbody tr th {\n",
       "        vertical-align: top;\n",
       "    }\n",
       "\n",
       "    .dataframe thead th {\n",
       "        text-align: right;\n",
       "    }\n",
       "</style>\n",
       "<table border=\"1\" class=\"dataframe\">\n",
       "  <thead>\n",
       "    <tr style=\"text-align: right;\">\n",
       "      <th></th>\n",
       "      <th>Request id</th>\n",
       "      <th>Pickup point</th>\n",
       "      <th>Driver id</th>\n",
       "      <th>Status</th>\n",
       "      <th>Request timestamp</th>\n",
       "      <th>Drop timestamp</th>\n",
       "      <th>Request Date</th>\n",
       "      <th>Request time</th>\n",
       "      <th>Request Day</th>\n",
       "    </tr>\n",
       "  </thead>\n",
       "  <tbody>\n",
       "    <tr>\n",
       "      <th>0</th>\n",
       "      <td>619</td>\n",
       "      <td>Airport</td>\n",
       "      <td>1.0</td>\n",
       "      <td>Trip Completed</td>\n",
       "      <td>2016-07-11 11:51:00</td>\n",
       "      <td>2016-07-11 13:00:00</td>\n",
       "      <td>2016-07-11</td>\n",
       "      <td>11:51:00</td>\n",
       "      <td>11</td>\n",
       "    </tr>\n",
       "    <tr>\n",
       "      <th>1</th>\n",
       "      <td>867</td>\n",
       "      <td>Airport</td>\n",
       "      <td>1.0</td>\n",
       "      <td>Trip Completed</td>\n",
       "      <td>2016-07-11 17:57:00</td>\n",
       "      <td>2016-07-11 18:47:00</td>\n",
       "      <td>2016-07-11</td>\n",
       "      <td>17:57:00</td>\n",
       "      <td>11</td>\n",
       "    </tr>\n",
       "    <tr>\n",
       "      <th>2</th>\n",
       "      <td>1807</td>\n",
       "      <td>City</td>\n",
       "      <td>1.0</td>\n",
       "      <td>Trip Completed</td>\n",
       "      <td>2016-07-12 09:17:00</td>\n",
       "      <td>2016-07-12 09:58:00</td>\n",
       "      <td>2016-07-12</td>\n",
       "      <td>09:17:00</td>\n",
       "      <td>12</td>\n",
       "    </tr>\n",
       "    <tr>\n",
       "      <th>3</th>\n",
       "      <td>2532</td>\n",
       "      <td>Airport</td>\n",
       "      <td>1.0</td>\n",
       "      <td>Trip Completed</td>\n",
       "      <td>2016-07-12 21:08:00</td>\n",
       "      <td>2016-07-12 22:03:00</td>\n",
       "      <td>2016-07-12</td>\n",
       "      <td>21:08:00</td>\n",
       "      <td>12</td>\n",
       "    </tr>\n",
       "    <tr>\n",
       "      <th>4</th>\n",
       "      <td>3112</td>\n",
       "      <td>City</td>\n",
       "      <td>1.0</td>\n",
       "      <td>Trip Completed</td>\n",
       "      <td>2016-07-13 08:33:16</td>\n",
       "      <td>2016-07-13 09:25:47</td>\n",
       "      <td>2016-07-13</td>\n",
       "      <td>08:33:16</td>\n",
       "      <td>13</td>\n",
       "    </tr>\n",
       "  </tbody>\n",
       "</table>\n",
       "</div>"
      ],
      "text/plain": [
       "   Request id Pickup point  Driver id          Status   Request timestamp  \\\n",
       "0         619      Airport        1.0  Trip Completed 2016-07-11 11:51:00   \n",
       "1         867      Airport        1.0  Trip Completed 2016-07-11 17:57:00   \n",
       "2        1807         City        1.0  Trip Completed 2016-07-12 09:17:00   \n",
       "3        2532      Airport        1.0  Trip Completed 2016-07-12 21:08:00   \n",
       "4        3112         City        1.0  Trip Completed 2016-07-13 08:33:16   \n",
       "\n",
       "       Drop timestamp Request Date Request time  Request Day  \n",
       "0 2016-07-11 13:00:00   2016-07-11     11:51:00           11  \n",
       "1 2016-07-11 18:47:00   2016-07-11     17:57:00           11  \n",
       "2 2016-07-12 09:58:00   2016-07-12     09:17:00           12  \n",
       "3 2016-07-12 22:03:00   2016-07-12     21:08:00           12  \n",
       "4 2016-07-13 09:25:47   2016-07-13     08:33:16           13  "
      ]
     },
     "execution_count": 42,
     "metadata": {},
     "output_type": "execute_result"
    }
   ],
   "source": [
    "#Extracting day from the  request timestamp for further analysis \n",
    "df[\"Request Day\"] = df[\"Request timestamp\"].dt.day\n",
    "df.head()"
   ]
  },
  {
   "cell_type": "code",
   "execution_count": 43,
   "id": "427a360e",
   "metadata": {},
   "outputs": [
    {
     "data": {
      "text/html": [
       "<div>\n",
       "<style scoped>\n",
       "    .dataframe tbody tr th:only-of-type {\n",
       "        vertical-align: middle;\n",
       "    }\n",
       "\n",
       "    .dataframe tbody tr th {\n",
       "        vertical-align: top;\n",
       "    }\n",
       "\n",
       "    .dataframe thead th {\n",
       "        text-align: right;\n",
       "    }\n",
       "</style>\n",
       "<table border=\"1\" class=\"dataframe\">\n",
       "  <thead>\n",
       "    <tr style=\"text-align: right;\">\n",
       "      <th></th>\n",
       "      <th>Request id</th>\n",
       "      <th>Pickup point</th>\n",
       "      <th>Driver id</th>\n",
       "      <th>Status</th>\n",
       "      <th>Request timestamp</th>\n",
       "      <th>Drop timestamp</th>\n",
       "      <th>Request Date</th>\n",
       "      <th>Request time</th>\n",
       "      <th>Request Day</th>\n",
       "      <th>Request Hour</th>\n",
       "    </tr>\n",
       "  </thead>\n",
       "  <tbody>\n",
       "    <tr>\n",
       "      <th>0</th>\n",
       "      <td>619</td>\n",
       "      <td>Airport</td>\n",
       "      <td>1.0</td>\n",
       "      <td>Trip Completed</td>\n",
       "      <td>2016-07-11 11:51:00</td>\n",
       "      <td>2016-07-11 13:00:00</td>\n",
       "      <td>2016-07-11</td>\n",
       "      <td>11:51:00</td>\n",
       "      <td>11</td>\n",
       "      <td>11</td>\n",
       "    </tr>\n",
       "    <tr>\n",
       "      <th>1</th>\n",
       "      <td>867</td>\n",
       "      <td>Airport</td>\n",
       "      <td>1.0</td>\n",
       "      <td>Trip Completed</td>\n",
       "      <td>2016-07-11 17:57:00</td>\n",
       "      <td>2016-07-11 18:47:00</td>\n",
       "      <td>2016-07-11</td>\n",
       "      <td>17:57:00</td>\n",
       "      <td>11</td>\n",
       "      <td>17</td>\n",
       "    </tr>\n",
       "    <tr>\n",
       "      <th>2</th>\n",
       "      <td>1807</td>\n",
       "      <td>City</td>\n",
       "      <td>1.0</td>\n",
       "      <td>Trip Completed</td>\n",
       "      <td>2016-07-12 09:17:00</td>\n",
       "      <td>2016-07-12 09:58:00</td>\n",
       "      <td>2016-07-12</td>\n",
       "      <td>09:17:00</td>\n",
       "      <td>12</td>\n",
       "      <td>9</td>\n",
       "    </tr>\n",
       "    <tr>\n",
       "      <th>3</th>\n",
       "      <td>2532</td>\n",
       "      <td>Airport</td>\n",
       "      <td>1.0</td>\n",
       "      <td>Trip Completed</td>\n",
       "      <td>2016-07-12 21:08:00</td>\n",
       "      <td>2016-07-12 22:03:00</td>\n",
       "      <td>2016-07-12</td>\n",
       "      <td>21:08:00</td>\n",
       "      <td>12</td>\n",
       "      <td>21</td>\n",
       "    </tr>\n",
       "    <tr>\n",
       "      <th>4</th>\n",
       "      <td>3112</td>\n",
       "      <td>City</td>\n",
       "      <td>1.0</td>\n",
       "      <td>Trip Completed</td>\n",
       "      <td>2016-07-13 08:33:16</td>\n",
       "      <td>2016-07-13 09:25:47</td>\n",
       "      <td>2016-07-13</td>\n",
       "      <td>08:33:16</td>\n",
       "      <td>13</td>\n",
       "      <td>8</td>\n",
       "    </tr>\n",
       "  </tbody>\n",
       "</table>\n",
       "</div>"
      ],
      "text/plain": [
       "   Request id Pickup point  Driver id          Status   Request timestamp  \\\n",
       "0         619      Airport        1.0  Trip Completed 2016-07-11 11:51:00   \n",
       "1         867      Airport        1.0  Trip Completed 2016-07-11 17:57:00   \n",
       "2        1807         City        1.0  Trip Completed 2016-07-12 09:17:00   \n",
       "3        2532      Airport        1.0  Trip Completed 2016-07-12 21:08:00   \n",
       "4        3112         City        1.0  Trip Completed 2016-07-13 08:33:16   \n",
       "\n",
       "       Drop timestamp Request Date Request time  Request Day  Request Hour  \n",
       "0 2016-07-11 13:00:00   2016-07-11     11:51:00           11            11  \n",
       "1 2016-07-11 18:47:00   2016-07-11     17:57:00           11            17  \n",
       "2 2016-07-12 09:58:00   2016-07-12     09:17:00           12             9  \n",
       "3 2016-07-12 22:03:00   2016-07-12     21:08:00           12            21  \n",
       "4 2016-07-13 09:25:47   2016-07-13     08:33:16           13             8  "
      ]
     },
     "execution_count": 43,
     "metadata": {},
     "output_type": "execute_result"
    }
   ],
   "source": [
    "#Extracting hour from the  request timestamp for further analysis\n",
    "df[\"Request Hour\"] = df[\"Request timestamp\"].apply(lambda x:x.hour)\n",
    "df.head()"
   ]
  },
  {
   "cell_type": "code",
   "execution_count": 60,
   "id": "8f158e08",
   "metadata": {},
   "outputs": [
    {
     "data": {
      "text/plain": [
       "Trip Completed       2831\n",
       "No Cars Available    2650\n",
       "Cancelled            1264\n",
       "Name: Status, dtype: int64"
      ]
     },
     "execution_count": 60,
     "metadata": {},
     "output_type": "execute_result"
    }
   ],
   "source": [
    "df['Status'].value_counts()"
   ]
  },
  {
   "cell_type": "code",
   "execution_count": 44,
   "id": "64e29860",
   "metadata": {},
   "outputs": [
    {
     "data": {
      "image/png": "[encoded data removed]",
      "text/plain": [
       "<Figure size 432x288 with 1 Axes>"
      ]
     },
     "metadata": {
      "needs_background": "light"
     },
     "output_type": "display_data"
    }
   ],
   "source": [
    "#Plotting graph for trip status\n",
    "sns.countplot(df[\"Status\"])\n",
    "plt.title(\"Trip status\")\n",
    "plt.show()"
   ]
  },
  {
   "cell_type": "markdown",
   "id": "b2bb811d",
   "metadata": {},
   "source": [
    "#### Calculating Demand- supply gap "
   ]
  },
  {
   "cell_type": "code",
   "execution_count": 50,
   "id": "e880d052",
   "metadata": {},
   "outputs": [
    {
     "data": {
      "text/plain": [
       "(6745,)"
      ]
     },
     "execution_count": 50,
     "metadata": {},
     "output_type": "execute_result"
    }
   ],
   "source": [
    "df_demand = df['Status']\n",
    "df_demand.shape"
   ]
  },
  {
   "cell_type": "code",
   "execution_count": 55,
   "id": "70717b3d",
   "metadata": {},
   "outputs": [
    {
     "data": {
      "text/plain": [
       "(2831, 10)"
      ]
     },
     "execution_count": 55,
     "metadata": {},
     "output_type": "execute_result"
    }
   ],
   "source": [
    "df_supply = df[(df['Status']=='Trip Completed')]\n",
    "df_supply.shape"
   ]
  },
  {
   "cell_type": "code",
   "execution_count": 61,
   "id": "a6a007b5",
   "metadata": {},
   "outputs": [
    {
     "data": {
      "text/plain": [
       "(3914, 10)"
      ]
     },
     "execution_count": 61,
     "metadata": {},
     "output_type": "execute_result"
    }
   ],
   "source": [
    "df_gap = df[(df['Status']=='No Cars Available')|(df['Status']=='Cancelled')]\n",
    "df_gap.shape"
   ]
  },
  {
   "cell_type": "markdown",
   "id": "d90468fd",
   "metadata": {},
   "source": [
    "#### As we can see from the graph, not even 50% of total demand was met and there is more 50% of gap of supply due to No cars available and cancellation of trip."
   ]
  },
  {
   "cell_type": "code",
   "execution_count": 96,
   "id": "f3b4383e",
   "metadata": {},
   "outputs": [
    {
     "data": {
      "image/png": "[encoded data removed]",
      "text/plain": [
       "<Figure size 864x432 with 1 Axes>"
      ]
     },
     "metadata": {
      "needs_background": "light"
     },
     "output_type": "display_data"
    }
   ],
   "source": [
    "#Frequency of Request by Hour\n",
    "df.groupby(['Request Hour','Status']).size().unstack().plot(kind='bar',stacked=True,figsize=(12,6))\n",
    "plt.title('Frequency of Requests by Hour')\n",
    "plt.legend()\n",
    "plt.show()"
   ]
  },
  {
   "cell_type": "markdown",
   "id": "fd9f0975",
   "metadata": {},
   "source": [
    "#### As we can see from above graph each hour the trip completed is in high number although there is high demand, but car availability is also main problem here."
   ]
  },
  {
   "cell_type": "code",
   "execution_count": 65,
   "id": "eea358fe",
   "metadata": {},
   "outputs": [
    {
     "data": {
      "image/png": "[encoded data removed]",
      "text/plain": [
       "<Figure size 483.5x1800 with 5 Axes>"
      ]
     },
     "metadata": {
      "needs_background": "light"
     },
     "output_type": "display_data"
    }
   ],
   "source": [
    "#factor plot of hour and day with respect to status to visualize peak hours \n",
    "sns.factorplot(x='Request Hour',hue = 'Status', row = 'Request Day', data = df, kind = 'count')\n",
    "plt.legend()\n",
    "plt.title('Hourly Demand and Status')\n",
    "plt.show()"
   ]
  },
  {
   "cell_type": "markdown",
   "id": "a24621ff",
   "metadata": {},
   "source": [
    "##### As we can see here there is a high demand in morning and evening. Also we can see No cars available is in huge number for that we can hire part time drivers at that time so that we assure that we can fullfill that demand.\n",
    "\n",
    "\n"
   ]
  },
  {
   "cell_type": "code",
   "execution_count": 66,
   "id": "b4391809",
   "metadata": {},
   "outputs": [
    {
     "data": {
      "image/png": "[encoded data removed]",
      "text/plain": [
       "<Figure size 430.125x360 with 1 Axes>"
      ]
     },
     "metadata": {
      "needs_background": "light"
     },
     "output_type": "display_data"
    }
   ],
   "source": [
    "#factor plot of for all days with respect to Pick-up points\n",
    "sns.factorplot(x='Request Hour',hue = 'Pickup point', data = df, kind = 'count')\n",
    "plt.legend()\n",
    "plt.title('Hourly Demand in city/Airport')\n",
    "plt.show()\n"
   ]
  },
  {
   "cell_type": "markdown",
   "id": "a82e7beb",
   "metadata": {},
   "source": [
    "#### As we can clearly see that in morning hour there are larger pick-up from the City as compare to the Airport and in the evening hour there are large pick-up from Airports\n"
   ]
  },
  {
   "cell_type": "code",
   "execution_count": 67,
   "id": "fefe93da",
   "metadata": {},
   "outputs": [],
   "source": [
    "#Creating a time slot for various time period of day so that we can get meaningfull insight\n",
    "def time_period(x):\n",
    "    if x<5:\n",
    "        return \"Pre Morning\"\n",
    "    elif x>=5 and x<10:\n",
    "        return \"Morning Rush\"\n",
    "    elif x>=10 and x<17:\n",
    "        return \"Day Time\"\n",
    "    elif x>=17 and x<22:\n",
    "        return \"Evening Rush\"\n",
    "    else:\n",
    "        return \"Late Night\"\n",
    "    \n"
   ]
  },
  {
   "cell_type": "code",
   "execution_count": 68,
   "id": "25883042",
   "metadata": {},
   "outputs": [
    {
     "data": {
      "text/html": [
       "<div>\n",
       "<style scoped>\n",
       "    .dataframe tbody tr th:only-of-type {\n",
       "        vertical-align: middle;\n",
       "    }\n",
       "\n",
       "    .dataframe tbody tr th {\n",
       "        vertical-align: top;\n",
       "    }\n",
       "\n",
       "    .dataframe thead th {\n",
       "        text-align: right;\n",
       "    }\n",
       "</style>\n",
       "<table border=\"1\" class=\"dataframe\">\n",
       "  <thead>\n",
       "    <tr style=\"text-align: right;\">\n",
       "      <th></th>\n",
       "      <th>Request id</th>\n",
       "      <th>Pickup point</th>\n",
       "      <th>Driver id</th>\n",
       "      <th>Status</th>\n",
       "      <th>Request timestamp</th>\n",
       "      <th>Drop timestamp</th>\n",
       "      <th>Request Date</th>\n",
       "      <th>Request time</th>\n",
       "      <th>Request Day</th>\n",
       "      <th>Request Hour</th>\n",
       "      <th>Time Slot</th>\n",
       "    </tr>\n",
       "  </thead>\n",
       "  <tbody>\n",
       "    <tr>\n",
       "      <th>0</th>\n",
       "      <td>619</td>\n",
       "      <td>Airport</td>\n",
       "      <td>1.0</td>\n",
       "      <td>Trip Completed</td>\n",
       "      <td>2016-07-11 11:51:00</td>\n",
       "      <td>2016-07-11 13:00:00</td>\n",
       "      <td>2016-07-11</td>\n",
       "      <td>11:51:00</td>\n",
       "      <td>11</td>\n",
       "      <td>11</td>\n",
       "      <td>Day Time</td>\n",
       "    </tr>\n",
       "    <tr>\n",
       "      <th>1</th>\n",
       "      <td>867</td>\n",
       "      <td>Airport</td>\n",
       "      <td>1.0</td>\n",
       "      <td>Trip Completed</td>\n",
       "      <td>2016-07-11 17:57:00</td>\n",
       "      <td>2016-07-11 18:47:00</td>\n",
       "      <td>2016-07-11</td>\n",
       "      <td>17:57:00</td>\n",
       "      <td>11</td>\n",
       "      <td>17</td>\n",
       "      <td>Evening Rush</td>\n",
       "    </tr>\n",
       "    <tr>\n",
       "      <th>2</th>\n",
       "      <td>1807</td>\n",
       "      <td>City</td>\n",
       "      <td>1.0</td>\n",
       "      <td>Trip Completed</td>\n",
       "      <td>2016-07-12 09:17:00</td>\n",
       "      <td>2016-07-12 09:58:00</td>\n",
       "      <td>2016-07-12</td>\n",
       "      <td>09:17:00</td>\n",
       "      <td>12</td>\n",
       "      <td>9</td>\n",
       "      <td>Morning Rush</td>\n",
       "    </tr>\n",
       "    <tr>\n",
       "      <th>3</th>\n",
       "      <td>2532</td>\n",
       "      <td>Airport</td>\n",
       "      <td>1.0</td>\n",
       "      <td>Trip Completed</td>\n",
       "      <td>2016-07-12 21:08:00</td>\n",
       "      <td>2016-07-12 22:03:00</td>\n",
       "      <td>2016-07-12</td>\n",
       "      <td>21:08:00</td>\n",
       "      <td>12</td>\n",
       "      <td>21</td>\n",
       "      <td>Evening Rush</td>\n",
       "    </tr>\n",
       "    <tr>\n",
       "      <th>4</th>\n",
       "      <td>3112</td>\n",
       "      <td>City</td>\n",
       "      <td>1.0</td>\n",
       "      <td>Trip Completed</td>\n",
       "      <td>2016-07-13 08:33:16</td>\n",
       "      <td>2016-07-13 09:25:47</td>\n",
       "      <td>2016-07-13</td>\n",
       "      <td>08:33:16</td>\n",
       "      <td>13</td>\n",
       "      <td>8</td>\n",
       "      <td>Morning Rush</td>\n",
       "    </tr>\n",
       "  </tbody>\n",
       "</table>\n",
       "</div>"
      ],
      "text/plain": [
       "   Request id Pickup point  Driver id          Status   Request timestamp  \\\n",
       "0         619      Airport        1.0  Trip Completed 2016-07-11 11:51:00   \n",
       "1         867      Airport        1.0  Trip Completed 2016-07-11 17:57:00   \n",
       "2        1807         City        1.0  Trip Completed 2016-07-12 09:17:00   \n",
       "3        2532      Airport        1.0  Trip Completed 2016-07-12 21:08:00   \n",
       "4        3112         City        1.0  Trip Completed 2016-07-13 08:33:16   \n",
       "\n",
       "       Drop timestamp Request Date Request time  Request Day  Request Hour  \\\n",
       "0 2016-07-11 13:00:00   2016-07-11     11:51:00           11            11   \n",
       "1 2016-07-11 18:47:00   2016-07-11     17:57:00           11            17   \n",
       "2 2016-07-12 09:58:00   2016-07-12     09:17:00           12             9   \n",
       "3 2016-07-12 22:03:00   2016-07-12     21:08:00           12            21   \n",
       "4 2016-07-13 09:25:47   2016-07-13     08:33:16           13             8   \n",
       "\n",
       "      Time Slot  \n",
       "0      Day Time  \n",
       "1  Evening Rush  \n",
       "2  Morning Rush  \n",
       "3  Evening Rush  \n",
       "4  Morning Rush  "
      ]
     },
     "execution_count": 68,
     "metadata": {},
     "output_type": "execute_result"
    }
   ],
   "source": [
    "df['Time Slot'] = df['Request Hour'].apply(lambda x:time_period(x))\n",
    "df.head()"
   ]
  },
  {
   "cell_type": "markdown",
   "id": "a48e4aa0",
   "metadata": {},
   "source": [
    "#### Now we have time period as time slot, from this we can easly get an idea which is the peak hour, when the trip is complited more, which time the availability of car is less  etc"
   ]
  },
  {
   "cell_type": "code",
   "execution_count": 69,
   "id": "3349cb4e",
   "metadata": {},
   "outputs": [
    {
     "data": {
      "text/plain": [
       "Evening Rush    2342\n",
       "Morning Rush    2103\n",
       "Day Time        1224\n",
       "Pre Morning      578\n",
       "Late Night       498\n",
       "Name: Time Slot, dtype: int64"
      ]
     },
     "execution_count": 69,
     "metadata": {},
     "output_type": "execute_result"
    }
   ],
   "source": [
    "df[\"Time Slot\"].value_counts()"
   ]
  },
  {
   "cell_type": "markdown",
   "id": "4f0c6eac",
   "metadata": {},
   "source": [
    "#### As we clearly see from above info that maximum number of travellers are between Evening Rush and Morning Rush time"
   ]
  },
  {
   "cell_type": "code",
   "execution_count": 70,
   "id": "35b0cc10",
   "metadata": {},
   "outputs": [
    {
     "data": {
      "image/png": "[encoded data removed]",
      "text/plain": [
       "<Figure size 432x288 with 1 Axes>"
      ]
     },
     "metadata": {
      "needs_background": "light"
     },
     "output_type": "display_data"
    }
   ],
   "source": [
    "#Ploting  time slot with respect to status and identify the most critical problems before UBER\n",
    "sns.countplot(x='Time Slot', hue = 'Status',data = df)\n",
    "plt.title('Daily status of Trip')\n",
    "plt.xticks(rotation=90)\n",
    "plt.show()"
   ]
  },
  {
   "cell_type": "markdown",
   "id": "16a5c72a",
   "metadata": {},
   "source": [
    "#### From the above graph we can clearly notice that in Rush hour like availability of cars are very less or decent, and trip completed in Evening Rush time is decent and Average in Morning Rush time, but in morning Rush hour cancellation is main problem.\n",
    "#### --- Evening Rush hour cars availability is main problem\n",
    "#### --- Morning Rush hour Trip cancellation is main problem\n",
    "#### --- In other time of day everything are decent in number "
   ]
  },
  {
   "cell_type": "markdown",
   "id": "3e7a850b",
   "metadata": {},
   "source": [
    "#### As we can see in Morning Rush time slot there are highest number of cancellation \n",
    "#### Now lets devide our analysis with respect to City vs Airport\n"
   ]
  },
  {
   "cell_type": "code",
   "execution_count": 71,
   "id": "aa71abfe",
   "metadata": {},
   "outputs": [
    {
     "data": {
      "image/png": "[encoded data removed]",
      "text/plain": [
       "<Figure size 432x288 with 1 Axes>"
      ]
     },
     "metadata": {
      "needs_background": "light"
     },
     "output_type": "display_data"
    }
   ],
   "source": [
    "#Ploting count plot of Morning Rush timeslot with respect to pick-up place\n",
    "df_Morning_Rush = df[(df['Time Slot']=='Morning Rush')]\n",
    "sns.countplot(x=\"Pickup point\", hue='Status',data= df_Morning_Rush)\n",
    "plt.title('Supply vs Demand in Morning Rush Hour')\n",
    "plt.show()"
   ]
  },
  {
   "cell_type": "markdown",
   "id": "92baece5",
   "metadata": {},
   "source": [
    "#### As we can see here in city in Morning Rush hours trip cancellation is the majior problem"
   ]
  },
  {
   "cell_type": "markdown",
   "id": "ba057310",
   "metadata": {},
   "source": [
    "#### severity of the problem by location & their count (cacellation of cab as per the pickup location in Morning Rush hours)"
   ]
  },
  {
   "cell_type": "code",
   "execution_count": 72,
   "id": "fa926df9",
   "metadata": {},
   "outputs": [
    {
     "data": {
      "text/plain": [
       "23"
      ]
     },
     "execution_count": 72,
     "metadata": {},
     "output_type": "execute_result"
    }
   ],
   "source": [
    "#count of cancelled trip by location(Airport)\n",
    "df_ap_cancel = df_Morning_Rush[(df_Morning_Rush['Pickup point']==\"Airport\")&(df_Morning_Rush['Status']==\"Cancelled\")]\n",
    "len(df_ap_cancel.index)"
   ]
  },
  {
   "cell_type": "code",
   "execution_count": 73,
   "id": "2fa1feaa",
   "metadata": {},
   "outputs": [
    {
     "data": {
      "text/plain": [
       "820"
      ]
     },
     "execution_count": 73,
     "metadata": {},
     "output_type": "execute_result"
    }
   ],
   "source": [
    "#count of cancelled trip by location(city)\n",
    "df_city_cancel = df_Morning_Rush[(df_Morning_Rush['Pickup point']==\"City\")&(df_Morning_Rush['Status']==\"Cancelled\")]\n",
    "len(df_city_cancel.index)"
   ]
  },
  {
   "cell_type": "markdown",
   "id": "50b25f9a",
   "metadata": {},
   "source": [
    "#### From the counts we can clearly notice that in city there is major problem in cacellation so we can proced our analysis towards that particular problem for now."
   ]
  },
  {
   "cell_type": "code",
   "execution_count": 74,
   "id": "a60cfdca",
   "metadata": {},
   "outputs": [
    {
     "data": {
      "text/plain": [
       "472"
      ]
     },
     "execution_count": 74,
     "metadata": {},
     "output_type": "execute_result"
    }
   ],
   "source": [
    "#now lets look at the supply and demand in Morning Rush hour in city\n",
    "#checking supply in Morning Rush Hour\n",
    "df_city_supply = df_Morning_Rush[(df_Morning_Rush['Pickup point']==\"City\")&(df_Morning_Rush['Status']==\"Trip Completed\")]\n",
    "len(df_city_supply.index)"
   ]
  },
  {
   "cell_type": "code",
   "execution_count": 75,
   "id": "97b7e44a",
   "metadata": {},
   "outputs": [
    {
     "data": {
      "text/plain": [
       "1677"
      ]
     },
     "execution_count": 75,
     "metadata": {},
     "output_type": "execute_result"
    }
   ],
   "source": [
    "#checking Demand in Morning Rush Hour\n",
    "df_city_demand = df_Morning_Rush[(df_Morning_Rush['Pickup point']==\"City\")]\n",
    "len(df_city_demand.index)"
   ]
  },
  {
   "cell_type": "markdown",
   "id": "08e00fd4",
   "metadata": {},
   "source": [
    "#### As we can see from supply and Demand counts, the supply for the demand is very very less\n",
    "\n"
   ]
  },
  {
   "cell_type": "markdown",
   "id": "08f90ad8",
   "metadata": {},
   "source": [
    "####  Now lets see what is gap between supply and demand in Airport"
   ]
  },
  {
   "cell_type": "code",
   "execution_count": 76,
   "id": "a608f6ba",
   "metadata": {},
   "outputs": [
    {
     "data": {
      "text/plain": [
       "382"
      ]
     },
     "execution_count": 76,
     "metadata": {},
     "output_type": "execute_result"
    }
   ],
   "source": [
    "#lets look at supply and demand in Morning Rush hour in Airport\n",
    "#checking supply in Morning Rush Hour\n",
    "df_ap_supply = df_Morning_Rush[(df_Morning_Rush['Pickup point']==\"Airport\")&(df_Morning_Rush['Status']==\"Trip Completed\")]\n",
    "len(df_ap_supply.index)"
   ]
  },
  {
   "cell_type": "code",
   "execution_count": 77,
   "id": "9b7f50ec",
   "metadata": {},
   "outputs": [
    {
     "data": {
      "text/plain": [
       "426"
      ]
     },
     "execution_count": 77,
     "metadata": {},
     "output_type": "execute_result"
    }
   ],
   "source": [
    "#checking Demand in Morning Rush Hour\n",
    "df_ap_demand = df_Morning_Rush[(df_Morning_Rush['Pickup point']==\"Airport\")]\n",
    "len(df_ap_demand.index)"
   ]
  },
  {
   "cell_type": "markdown",
   "id": "e9b5d0ff",
   "metadata": {},
   "source": [
    "#### In Morning Rush hour in Airport supply is very good that we see from the above counts \n"
   ]
  },
  {
   "cell_type": "markdown",
   "id": "f3f8c7a2",
   "metadata": {},
   "source": [
    "#### Now let's look at the supply and demand in Evening rush in the city to get the more insight at  that time slot \n"
   ]
  },
  {
   "cell_type": "code",
   "execution_count": 78,
   "id": "3d3a7de4",
   "metadata": {},
   "outputs": [
    {
     "data": {
      "image/png": "[encoded data removed]",
      "text/plain": [
       "<Figure size 432x288 with 1 Axes>"
      ]
     },
     "metadata": {
      "needs_background": "light"
     },
     "output_type": "display_data"
    }
   ],
   "source": [
    "#supply vs demand in Evening Rush hours \n",
    "#Ploting count plot of Evening Rush timeslot with respect to pick-up place\n",
    "df_Eve_Rush = df[(df['Time Slot']=='Evening Rush')]\n",
    "sns.countplot(x=\"Pickup point\", hue='Status',data= df_Eve_Rush)\n",
    "plt.title('Supply vs Demand in Evening Rush Hour')\n",
    "plt.show()"
   ]
  },
  {
   "cell_type": "markdown",
   "id": "d5ef6879",
   "metadata": {},
   "source": [
    "#### As we can see from above graph there is huge demand in Airport in Evening Rush hour but there is problem with availability of cars by that time, but in city supply is good.\n"
   ]
  },
  {
   "cell_type": "code",
   "execution_count": 79,
   "id": "67561a26",
   "metadata": {},
   "outputs": [
    {
     "data": {
      "text/plain": [
       "472"
      ]
     },
     "execution_count": 79,
     "metadata": {},
     "output_type": "execute_result"
    }
   ],
   "source": [
    "#now lets look at supply and demand in evening rush in the city \n",
    "df_City_supply = df_Eve_Rush[(df_Eve_Rush['Pickup point']==\"City\")&(df_Eve_Rush['Status']==\"Trip Completed\")]\n",
    "len(df_city_supply.index)"
   ]
  },
  {
   "cell_type": "code",
   "execution_count": 80,
   "id": "cbb4ce2e",
   "metadata": {},
   "outputs": [
    {
     "data": {
      "text/plain": [
       "1677"
      ]
     },
     "execution_count": 80,
     "metadata": {},
     "output_type": "execute_result"
    }
   ],
   "source": [
    "#demand in evening rush hours \n",
    "df_City_demand = df_Eve_Rush[(df_Eve_Rush['Pickup point']==\"City\")]\n",
    "len(df_city_demand.index)"
   ]
  },
  {
   "cell_type": "markdown",
   "id": "648d895e",
   "metadata": {},
   "source": [
    "#### As we clearly see from above graph and counts in city in evening rush hour there is good supply."
   ]
  },
  {
   "cell_type": "code",
   "execution_count": 82,
   "id": "f05ec013",
   "metadata": {},
   "outputs": [
    {
     "data": {
      "text/plain": [
       "373"
      ]
     },
     "execution_count": 82,
     "metadata": {},
     "output_type": "execute_result"
    }
   ],
   "source": [
    "#lets check at the supply and demand in airport in evening rush hours\n",
    "df_AP_supply = df_Eve_Rush[(df_Eve_Rush['Pickup point']==\"Airport\")&(df_Eve_Rush['Status']==\"Trip Completed\")]\n",
    "len(df_AP_supply.index)"
   ]
  },
  {
   "cell_type": "code",
   "execution_count": 83,
   "id": "b0f4fc00",
   "metadata": {},
   "outputs": [
    {
     "data": {
      "text/plain": [
       "1800"
      ]
     },
     "execution_count": 83,
     "metadata": {},
     "output_type": "execute_result"
    }
   ],
   "source": [
    "#demand in evening rush hours \n",
    "df_AP_demand = df_Eve_Rush[(df_Eve_Rush['Pickup point']==\"Airport\")]\n",
    "len(df_AP_demand.index)"
   ]
  },
  {
   "cell_type": "markdown",
   "id": "7cf8a53a",
   "metadata": {},
   "source": [
    "#### here we see there is huge gap between demand and supply in evening hours in airport location \n",
    "\n"
   ]
  },
  {
   "cell_type": "code",
   "execution_count": 84,
   "id": "5e046e09",
   "metadata": {},
   "outputs": [
    {
     "data": {
      "text/plain": [
       "106"
      ]
     },
     "execution_count": 84,
     "metadata": {},
     "output_type": "execute_result"
    }
   ],
   "source": [
    "#lets look at severity problem (of demand and supply)at  each location by looking at cacellation in evening rush\n",
    "df_AP_cancel = df_Eve_Rush[(df_Eve_Rush['Pickup point']==\"Airport\")&(df_Eve_Rush['Status']==\"Cancelled\")]\n",
    "len(df_AP_cancel.index)"
   ]
  },
  {
   "cell_type": "code",
   "execution_count": 85,
   "id": "99feb5e5",
   "metadata": {},
   "outputs": [
    {
     "data": {
      "text/plain": [
       "60"
      ]
     },
     "execution_count": 85,
     "metadata": {},
     "output_type": "execute_result"
    }
   ],
   "source": [
    "#count of cancelled trip by location(city)\n",
    "df_City_cancel = df_Eve_Rush[(df_Eve_Rush['Pickup point']==\"City\")&(df_Eve_Rush['Status']==\"Cancelled\")]\n",
    "len(df_City_cancel.index)"
   ]
  },
  {
   "cell_type": "markdown",
   "id": "4d9f99f2",
   "metadata": {},
   "source": [
    "#### There not much trips has been cancelled by driver in both location "
   ]
  },
  {
   "cell_type": "markdown",
   "id": "ba486df9",
   "metadata": {},
   "source": [
    "####  now let us understand severity of problem by location in Morning Rush as per no cars availability \n",
    "##### Till now we have seen insights on cancelled trips but now lest get insight from no cars availability "
   ]
  },
  {
   "cell_type": "code",
   "execution_count": 86,
   "id": "b75268cc",
   "metadata": {},
   "outputs": [
    {
     "data": {
      "text/plain": [
       "21"
      ]
     },
     "execution_count": 86,
     "metadata": {},
     "output_type": "execute_result"
    }
   ],
   "source": [
    "#count of trip with unavailability of car by location(Airport)\n",
    "df_AP_ncars = df_Morning_Rush[(df_Morning_Rush['Pickup point']==\"Airport\")&(df_Morning_Rush['Status']==\"No Cars Available\")]\n",
    "len(df_AP_ncars.index)"
   ]
  },
  {
   "cell_type": "code",
   "execution_count": 87,
   "id": "81ea0020",
   "metadata": {},
   "outputs": [
    {
     "data": {
      "text/plain": [
       "385"
      ]
     },
     "execution_count": 87,
     "metadata": {},
     "output_type": "execute_result"
    }
   ],
   "source": [
    "#count of trip with unavailability of car by location(city)\n",
    "df_City_ncars = df_Morning_Rush[(df_Morning_Rush['Pickup point']==\"City\")&(df_Morning_Rush['Status']==\"No Cars Available\")]\n",
    "len(df_City_ncars.index)"
   ]
  },
  {
   "cell_type": "markdown",
   "id": "90c106de",
   "metadata": {},
   "source": [
    "#### From the graph and numbers above we can say that in city in morning rush hour there is availability of more cars will almost help us to reach the supply as per demand."
   ]
  },
  {
   "cell_type": "code",
   "execution_count": 88,
   "id": "413efe84",
   "metadata": {},
   "outputs": [
    {
     "data": {
      "text/plain": [
       "1321"
      ]
     },
     "execution_count": 88,
     "metadata": {},
     "output_type": "execute_result"
    }
   ],
   "source": [
    "#severity of problem by location in evening rush (Unavailability of car)\n",
    "#count of trip with unavailability of car by location(Airport)\n",
    "df_AP_ncars = df_Eve_Rush[(df_Eve_Rush['Pickup point']==\"Airport\")&(df_Eve_Rush['Status']==\"No Cars Available\")]\n",
    "len(df_AP_ncars.index)"
   ]
  },
  {
   "cell_type": "code",
   "execution_count": 89,
   "id": "2f124282",
   "metadata": {},
   "outputs": [
    {
     "data": {
      "text/plain": [
       "71"
      ]
     },
     "execution_count": 89,
     "metadata": {},
     "output_type": "execute_result"
    }
   ],
   "source": [
    "#count of trip with unavailability of car by location(city)\n",
    "df_City_ncars = df_Eve_Rush[(df_Eve_Rush['Pickup point']==\"City\")&(df_Eve_Rush['Status']==\"No Cars Available\")]\n",
    "len(df_City_ncars.index)"
   ]
  },
  {
   "cell_type": "markdown",
   "id": "9e46a19a",
   "metadata": {},
   "source": [
    "#### From the above counts we can see that in evening rush hours there is very less available cars are ther in airport to fullfill demand "
   ]
  },
  {
   "cell_type": "code",
   "execution_count": 90,
   "id": "d355bf17",
   "metadata": {},
   "outputs": [],
   "source": [
    "####  Lets check the status of trip in Morning Rush hour where pick up point is city."
   ]
  },
  {
   "cell_type": "code",
   "execution_count": 91,
   "id": "396f8c40",
   "metadata": {},
   "outputs": [],
   "source": [
    "def pie_chart(dataframe):\n",
    "    labels = dataframe.index.values\n",
    "    sizes = dataframe.Status.values\n",
    "    fig1,ax1 = plt.subplots()\n",
    "    ax1.pie(sizes,labels=dataframe.index.values)\n",
    "    plt.legend()\n",
    "    ax1.set_title('Morning Rush Status of trip in City')\n",
    "    ax1.axis('equal')\n",
    "    plt.show()"
   ]
  },
  {
   "cell_type": "code",
   "execution_count": 92,
   "id": "3baa56e5",
   "metadata": {},
   "outputs": [
    {
     "data": {
      "image/png": "[encoded data removed]",
      "text/plain": [
       "<Figure size 432x288 with 1 Axes>"
      ]
     },
     "metadata": {},
     "output_type": "display_data"
    }
   ],
   "source": [
    "df_city = df[(df['Pickup point']=='City')&(df['Time Slot']=='Morning Rush')]\n",
    "df_city_count = pd.DataFrame(df_city.Status.value_counts())\n",
    "pie_chart(df_city_count)"
   ]
  },
  {
   "cell_type": "markdown",
   "id": "ee003a1e",
   "metadata": {},
   "source": [
    "####  Lets check the status of trip in Evening Rush hour where pick up point is Airpot."
   ]
  },
  {
   "cell_type": "code",
   "execution_count": 93,
   "id": "a8e4f598",
   "metadata": {},
   "outputs": [],
   "source": [
    "def Pie_chart(dataframe):\n",
    "    labels = dataframe.index.values\n",
    "    sizes = dataframe.Status.values\n",
    "    fig1,ax1 = plt.subplots()\n",
    "    ax1.pie(sizes,labels=dataframe.index.values)\n",
    "    plt.legend()\n",
    "    ax1.set_title('Evening Rush Status of trip in Airport')\n",
    "    ax1.axis('equal')\n",
    "    plt.show()"
   ]
  },
  {
   "cell_type": "code",
   "execution_count": 94,
   "id": "d5c80220",
   "metadata": {},
   "outputs": [
    {
     "data": {
      "image/png": "[encoded data removed]",
      "text/plain": [
       "<Figure size 432x288 with 1 Axes>"
      ]
     },
     "metadata": {},
     "output_type": "display_data"
    }
   ],
   "source": [
    "df_ap = df[(df['Pickup point']=='Airport')&(df['Time Slot']=='Evening Rush')]\n",
    "df_ap_count = pd.DataFrame(df_ap.Status.value_counts())\n",
    "Pie_chart(df_ap_count)"
   ]
  },
  {
   "cell_type": "code",
   "execution_count": null,
   "id": "a1656228",
   "metadata": {},
   "outputs": [],
   "source": []
  },
  {
   "cell_type": "code",
   "execution_count": null,
   "id": "6fa932ae",
   "metadata": {},
   "outputs": [],
   "source": []
  },
  {
   "cell_type": "code",
   "execution_count": null,
   "id": "d58766ce",
   "metadata": {},
   "outputs": [],
   "source": []
  }
 ],
 "metadata": {
  "kernelspec": {
   "display_name": "Python 3",
   "language": "python",
   "name": "python3"
  },
  "language_info": {
   "codemirror_mode": {
    "name": "ipython",
    "version": 3
   },
   "file_extension": ".py",
   "mimetype": "text/x-python",
   "name": "python",
   "nbconvert_exporter": "python",
   "pygments_lexer": "ipython3",
   "version": "3.8.8"
  }
 },
 "nbformat": 4,
 "nbformat_minor": 5
}
